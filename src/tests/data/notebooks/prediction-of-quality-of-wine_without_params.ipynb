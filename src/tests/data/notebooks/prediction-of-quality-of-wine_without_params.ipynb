{
 "cells": [
  {
   "cell_type": "markdown",
   "metadata": {},
   "source": [
    "# All credits of this notebook goes to the original author [vishalyo990]!\n",
    "\n",
    "\n",
    "Notebook: https://www.kaggle.com/vishalyo990/prediction-of-quality-of-wine\n",
    "\n",
    "\n",
    "## **This notebook tutorial is for those who are beginners to machine learning.**\n",
    "\n",
    "*In this notebook, First I have done some exploration on the data using matplotlib and seaborn.\n",
    "Then, I use different classifier models to predict the quality of the wine.*\n",
    "\n",
    "**1. Random Forest Classifier**\n",
    "\n",
    "**2. Stochastic Gradient Descent Classifier**\n",
    "\n",
    "**3. Support Vector Classifier(SVC) **\n",
    "\n",
    "*Then I use cross validation evaluation technique to optimize the model performance.*\n",
    "\n",
    "**1. Grid Search CV**\n",
    "\n",
    "**2. Cross Validation Score**\n",
    "\n",
    "## **If you find this notebook useful then please upvote.**"
   ]
  },
  {
   "cell_type": "code",
   "execution_count": 2,
   "metadata": {
    "pycharm": {
     "name": "#%%\n"
    }
   },
   "outputs": [],
   "source": [
    "#Importing required packages.\n",
    "import pandas as pd\n",
    "import seaborn as sns\n",
    "import matplotlib.pyplot as plt\n",
    "from sklearn.ensemble import RandomForestClassifier\n",
    "from sklearn.svm import SVC\n",
    "from sklearn.linear_model import SGDClassifier\n",
    "from sklearn.metrics import confusion_matrix, classification_report\n",
    "from sklearn.preprocessing import StandardScaler, LabelEncoder\n",
    "from sklearn.model_selection import train_test_split, GridSearchCV, cross_val_score\n",
    "%matplotlib inline"
   ]
  },
  {
   "cell_type": "code",
   "execution_count": 3,
   "metadata": {
    "ExecuteTime": {
     "end_time": "2020-08-06T07:08:30.531936Z",
     "start_time": "2020-08-06T07:08:30.512787Z"
    },
    "_cell_guid": "800f9ff4-79bf-4785-9569-23e1d9b9b03b",
    "_uuid": "07c8409e4eccd80507d9846e8cc70ea42e58cbe6"
   },
   "outputs": [],
   "source": [
    "#Loading dataset\n",
    "wine = pd.read_csv('../Wine_data/raw_data.csv', sep=\";\")"
   ]
  },
  {
   "cell_type": "code",
   "execution_count": 1,
   "outputs": [
    {
     "ename": "SyntaxError",
     "evalue": "invalid syntax (<ipython-input-1-dea585507c85>, line 3)",
     "output_type": "error",
     "traceback": [
      "\u001B[0;36m  File \u001B[0;32m\"<ipython-input-1-dea585507c85>\"\u001B[0;36m, line \u001B[0;32m3\u001B[0m\n\u001B[0;31m    \"location_of_notebook= \"../data/notebooks/Wine_QUality/\"\u001B[0m\n\u001B[0m                             ^\u001B[0m\n\u001B[0;31mSyntaxError\u001B[0m\u001B[0;31m:\u001B[0m invalid syntax\n"
     ]
    }
   ],
   "source": [],
   "metadata": {
    "collapsed": false,
    "pycharm": {
     "name": "#%%\n"
    }
   }
  },
  {
   "cell_type": "code",
   "execution_count": 4,
   "metadata": {
    "ExecuteTime": {
     "end_time": "2020-08-06T07:08:30.571431Z",
     "start_time": "2020-08-06T07:08:30.535598Z"
    },
    "_cell_guid": "019cbcee-6cb2-478c-922b-ccebe4962769",
    "_uuid": "45ff42953e9082cd55612a4774408cc97a05fb11"
   },
   "outputs": [
    {
     "data": {
      "text/html": [
       "<div>\n",
       "<style scoped>\n",
       "    .dataframe tbody tr th:only-of-type {\n",
       "        vertical-align: middle;\n",
       "    }\n",
       "\n",
       "    .dataframe tbody tr th {\n",
       "        vertical-align: top;\n",
       "    }\n",
       "\n",
       "    .dataframe thead th {\n",
       "        text-align: right;\n",
       "    }\n",
       "</style>\n",
       "<table border=\"1\" class=\"dataframe\">\n",
       "  <thead>\n",
       "    <tr style=\"text-align: right;\">\n",
       "      <th></th>\n",
       "      <th>fixed acidity</th>\n",
       "      <th>volatile acidity</th>\n",
       "      <th>citric acid</th>\n",
       "      <th>residual sugar</th>\n",
       "      <th>chlorides</th>\n",
       "      <th>free sulfur dioxide</th>\n",
       "      <th>total sulfur dioxide</th>\n",
       "      <th>density</th>\n",
       "      <th>pH</th>\n",
       "      <th>sulphates</th>\n",
       "      <th>alcohol</th>\n",
       "      <th>quality</th>\n",
       "    </tr>\n",
       "  </thead>\n",
       "  <tbody>\n",
       "    <tr>\n",
       "      <th>0</th>\n",
       "      <td>7.4</td>\n",
       "      <td>0.70</td>\n",
       "      <td>0.00</td>\n",
       "      <td>1.9</td>\n",
       "      <td>0.076</td>\n",
       "      <td>11.0</td>\n",
       "      <td>34.0</td>\n",
       "      <td>0.9978</td>\n",
       "      <td>3.51</td>\n",
       "      <td>0.56</td>\n",
       "      <td>9.4</td>\n",
       "      <td>5</td>\n",
       "    </tr>\n",
       "    <tr>\n",
       "      <th>1</th>\n",
       "      <td>7.8</td>\n",
       "      <td>0.88</td>\n",
       "      <td>0.00</td>\n",
       "      <td>2.6</td>\n",
       "      <td>0.098</td>\n",
       "      <td>25.0</td>\n",
       "      <td>67.0</td>\n",
       "      <td>0.9968</td>\n",
       "      <td>3.20</td>\n",
       "      <td>0.68</td>\n",
       "      <td>9.8</td>\n",
       "      <td>5</td>\n",
       "    </tr>\n",
       "    <tr>\n",
       "      <th>2</th>\n",
       "      <td>7.8</td>\n",
       "      <td>0.76</td>\n",
       "      <td>0.04</td>\n",
       "      <td>2.3</td>\n",
       "      <td>0.092</td>\n",
       "      <td>15.0</td>\n",
       "      <td>54.0</td>\n",
       "      <td>0.9970</td>\n",
       "      <td>3.26</td>\n",
       "      <td>0.65</td>\n",
       "      <td>9.8</td>\n",
       "      <td>5</td>\n",
       "    </tr>\n",
       "    <tr>\n",
       "      <th>3</th>\n",
       "      <td>11.2</td>\n",
       "      <td>0.28</td>\n",
       "      <td>0.56</td>\n",
       "      <td>1.9</td>\n",
       "      <td>0.075</td>\n",
       "      <td>17.0</td>\n",
       "      <td>60.0</td>\n",
       "      <td>0.9980</td>\n",
       "      <td>3.16</td>\n",
       "      <td>0.58</td>\n",
       "      <td>9.8</td>\n",
       "      <td>6</td>\n",
       "    </tr>\n",
       "    <tr>\n",
       "      <th>4</th>\n",
       "      <td>7.4</td>\n",
       "      <td>0.70</td>\n",
       "      <td>0.00</td>\n",
       "      <td>1.9</td>\n",
       "      <td>0.076</td>\n",
       "      <td>11.0</td>\n",
       "      <td>34.0</td>\n",
       "      <td>0.9978</td>\n",
       "      <td>3.51</td>\n",
       "      <td>0.56</td>\n",
       "      <td>9.4</td>\n",
       "      <td>5</td>\n",
       "    </tr>\n",
       "  </tbody>\n",
       "</table>\n",
       "</div>"
      ],
      "text/plain": [
       "   fixed acidity  volatile acidity  citric acid  residual sugar  chlorides  \\\n",
       "0            7.4              0.70         0.00             1.9      0.076   \n",
       "1            7.8              0.88         0.00             2.6      0.098   \n",
       "2            7.8              0.76         0.04             2.3      0.092   \n",
       "3           11.2              0.28         0.56             1.9      0.075   \n",
       "4            7.4              0.70         0.00             1.9      0.076   \n",
       "\n",
       "   free sulfur dioxide  total sulfur dioxide  density    pH  sulphates  \\\n",
       "0                 11.0                  34.0   0.9978  3.51       0.56   \n",
       "1                 25.0                  67.0   0.9968  3.20       0.68   \n",
       "2                 15.0                  54.0   0.9970  3.26       0.65   \n",
       "3                 17.0                  60.0   0.9980  3.16       0.58   \n",
       "4                 11.0                  34.0   0.9978  3.51       0.56   \n",
       "\n",
       "   alcohol  quality  \n",
       "0      9.4        5  \n",
       "1      9.8        5  \n",
       "2      9.8        5  \n",
       "3      9.8        6  \n",
       "4      9.4        5  "
      ]
     },
     "execution_count": 4,
     "metadata": {},
     "output_type": "execute_result"
    }
   ],
   "source": [
    "#Let's check how the data is distributed\n",
    "wine.head()"
   ]
  },
  {
   "cell_type": "code",
   "execution_count": 5,
   "metadata": {
    "ExecuteTime": {
     "end_time": "2020-08-06T07:08:30.606755Z",
     "start_time": "2020-08-06T07:08:30.576909Z"
    },
    "_cell_guid": "704f4830-5804-436d-9b78-6ca00f5ae510",
    "_uuid": "af141503385967f92d409c5e111e2724b4c9636f"
   },
   "outputs": [
    {
     "name": "stdout",
     "output_type": "stream",
     "text": [
      "<class 'pandas.core.frame.DataFrame'>\n",
      "RangeIndex: 1599 entries, 0 to 1598\n",
      "Data columns (total 12 columns):\n",
      " #   Column                Non-Null Count  Dtype  \n",
      "---  ------                --------------  -----  \n",
      " 0   fixed acidity         1599 non-null   float64\n",
      " 1   volatile acidity      1599 non-null   float64\n",
      " 2   citric acid           1599 non-null   float64\n",
      " 3   residual sugar        1599 non-null   float64\n",
      " 4   chlorides             1599 non-null   float64\n",
      " 5   free sulfur dioxide   1599 non-null   float64\n",
      " 6   total sulfur dioxide  1599 non-null   float64\n",
      " 7   density               1599 non-null   float64\n",
      " 8   pH                    1599 non-null   float64\n",
      " 9   sulphates             1599 non-null   float64\n",
      " 10  alcohol               1599 non-null   float64\n",
      " 11  quality               1599 non-null   int64  \n",
      "dtypes: float64(11), int64(1)\n",
      "memory usage: 150.0 KB\n"
     ]
    }
   ],
   "source": [
    "#Information about the data columns\n",
    "wine.info()"
   ]
  },
  {
   "cell_type": "markdown",
   "metadata": {
    "_cell_guid": "12b9e3c1-006d-4b1d-b01d-02be5a594bbb",
    "_uuid": "e9ad3ce0e67ea7a5178222164d784a974846bc54"
   },
   "source": [
    "## **Let's do some plotting to know how the data columns are distributed in the dataset**"
   ]
  },
  {
   "cell_type": "code",
   "execution_count": 6,
   "metadata": {
    "ExecuteTime": {
     "end_time": "2020-08-06T07:08:31.120127Z",
     "start_time": "2020-08-06T07:08:30.613065Z"
    },
    "_cell_guid": "f6a9d2eb-e03c-4c8b-8d7f-c0cb735d9ce9",
    "_uuid": "255e8fd04c90eae23164df043ebf16550ecff8fe"
   },
   "outputs": [
    {
     "data": {
      "text/plain": [
       "<AxesSubplot:xlabel='quality', ylabel='fixed acidity'>"
      ]
     },
     "execution_count": 6,
     "metadata": {},
     "output_type": "execute_result"
    },
    {
     "data": {
      "image/png": "[encoded data removed]",
      "text/plain": [
       "<Figure size 720x432 with 1 Axes>"
      ]
     },
     "metadata": {
      "needs_background": "light"
     },
     "output_type": "display_data"
    }
   ],
   "source": [
    "#Here we see that fixed acidity does not give any specification to classify the quality.\n",
    "fig = plt.figure(figsize = (10,6))\n",
    "sns.barplot(x = 'quality', y = 'fixed acidity', data = wine)"
   ]
  },
  {
   "cell_type": "code",
   "execution_count": 7,
   "metadata": {
    "ExecuteTime": {
     "end_time": "2020-08-06T07:08:31.621753Z",
     "start_time": "2020-08-06T07:08:31.124724Z"
    },
    "_cell_guid": "7d7355dc-9c09-4e5e-8989-87f903197898",
    "_uuid": "158a576b3fb80cc0978c322663bc5060d8977be0"
   },
   "outputs": [
    {
     "data": {
      "text/plain": [
       "<AxesSubplot:xlabel='quality', ylabel='volatile acidity'>"
      ]
     },
     "execution_count": 7,
     "metadata": {},
     "output_type": "execute_result"
    },
    {
     "data": {
      "image/png": "[encoded data removed]",
      "text/plain": [
       "<Figure size 720x432 with 1 Axes>"
      ]
     },
     "metadata": {
      "needs_background": "light"
     },
     "output_type": "display_data"
    }
   ],
   "source": [
    "#Here we see that its quite a downing trend in the volatile acidity as we go higher the quality \n",
    "fig = plt.figure(figsize = (10,6))\n",
    "sns.barplot(x = 'quality', y = 'volatile acidity', data = wine)"
   ]
  },
  {
   "cell_type": "code",
   "execution_count": 8,
   "metadata": {
    "ExecuteTime": {
     "end_time": "2020-08-06T07:08:32.106952Z",
     "start_time": "2020-08-06T07:08:31.633793Z"
    },
    "_cell_guid": "08f073d3-787b-4956-899b-6bd2bdf3cf91",
    "_uuid": "9600cd337636a7860a908fa36ad8084e230829ca"
   },
   "outputs": [
    {
     "data": {
      "text/plain": [
       "<AxesSubplot:xlabel='quality', ylabel='citric acid'>"
      ]
     },
     "execution_count": 8,
     "metadata": {},
     "output_type": "execute_result"
    },
    {
     "data": {
      "image/png": "[encoded data removed]",
      "text/plain": [
       "<Figure size 720x432 with 1 Axes>"
      ]
     },
     "metadata": {
      "needs_background": "light"
     },
     "output_type": "display_data"
    }
   ],
   "source": [
    "#Composition of citric acid go higher as we go higher in the quality of the wine\n",
    "fig = plt.figure(figsize = (10,6))\n",
    "sns.barplot(x = 'quality', y = 'citric acid', data = wine)"
   ]
  },
  {
   "cell_type": "code",
   "execution_count": 9,
   "metadata": {
    "ExecuteTime": {
     "end_time": "2020-08-06T07:08:32.588768Z",
     "start_time": "2020-08-06T07:08:32.117937Z"
    },
    "_cell_guid": "7dcb76bc-3436-46bd-9d7f-78ccd436517e",
    "_uuid": "6b017770cef61eefb34b4607218c77f933350389"
   },
   "outputs": [
    {
     "data": {
      "text/plain": [
       "<AxesSubplot:xlabel='quality', ylabel='residual sugar'>"
      ]
     },
     "execution_count": 9,
     "metadata": {},
     "output_type": "execute_result"
    },
    {
     "data": {
      "image/png": "[encoded data removed]",
      "text/plain": [
       "<Figure size 720x432 with 1 Axes>"
      ]
     },
     "metadata": {
      "needs_background": "light"
     },
     "output_type": "display_data"
    }
   ],
   "source": [
    "fig = plt.figure(figsize = (10,6))\n",
    "sns.barplot(x = 'quality', y = 'residual sugar', data = wine)"
   ]
  },
  {
   "cell_type": "code",
   "execution_count": 10,
   "metadata": {
    "ExecuteTime": {
     "end_time": "2020-08-06T07:08:33.053592Z",
     "start_time": "2020-08-06T07:08:32.592116Z"
    },
    "_cell_guid": "76463630-67d9-4b07-8076-fba8b49a9921",
    "_uuid": "31fe5d393946e406cbe62d3f4c7951e0b493c454"
   },
   "outputs": [
    {
     "data": {
      "text/plain": [
       "<AxesSubplot:xlabel='quality', ylabel='chlorides'>"
      ]
     },
     "execution_count": 10,
     "metadata": {},
     "output_type": "execute_result"
    },
    {
     "data": {
      "image/png": "[encoded data removed]",
      "text/plain": [
       "<Figure size 720x432 with 1 Axes>"
      ]
     },
     "metadata": {
      "needs_background": "light"
     },
     "output_type": "display_data"
    }
   ],
   "source": [
    "#Composition of chloride also go down as we go higher in the quality of the wine\n",
    "fig = plt.figure(figsize = (10,6))\n",
    "sns.barplot(x = 'quality', y = 'chlorides', data = wine)"
   ]
  },
  {
   "cell_type": "code",
   "execution_count": 11,
   "metadata": {
    "ExecuteTime": {
     "end_time": "2020-08-06T07:08:33.510307Z",
     "start_time": "2020-08-06T07:08:33.060756Z"
    },
    "_cell_guid": "6abcf7a2-cc7a-4673-a905-6ee0c2cc9e15",
    "_uuid": "6ba9a0dafe8e1042da4dbcaa93706dd46cf3a85c"
   },
   "outputs": [
    {
     "data": {
      "text/plain": [
       "<AxesSubplot:xlabel='quality', ylabel='free sulfur dioxide'>"
      ]
     },
     "execution_count": 11,
     "metadata": {},
     "output_type": "execute_result"
    },
    {
     "data": {
      "image/png": "[encoded data removed]",
      "text/plain": [
       "<Figure size 720x432 with 1 Axes>"
      ]
     },
     "metadata": {
      "needs_background": "light"
     },
     "output_type": "display_data"
    }
   ],
   "source": [
    "fig = plt.figure(figsize = (10,6))\n",
    "sns.barplot(x = 'quality', y = 'free sulfur dioxide', data = wine)"
   ]
  },
  {
   "cell_type": "code",
   "execution_count": 12,
   "metadata": {
    "ExecuteTime": {
     "end_time": "2020-08-06T07:08:34.025365Z",
     "start_time": "2020-08-06T07:08:33.515075Z"
    },
    "_cell_guid": "9acea621-2b7b-44b7-a0fa-b984dd8c0e93",
    "_uuid": "d99c6e4033da73cdc9d9977ac045372ff9af1c53"
   },
   "outputs": [
    {
     "data": {
      "text/plain": [
       "<AxesSubplot:xlabel='quality', ylabel='total sulfur dioxide'>"
      ]
     },
     "execution_count": 12,
     "metadata": {},
     "output_type": "execute_result"
    },
    {
     "data": {
      "image/png": "[encoded data removed]",
      "text/plain": [
       "<Figure size 720x432 with 1 Axes>"
      ]
     },
     "metadata": {
      "needs_background": "light"
     },
     "output_type": "display_data"
    }
   ],
   "source": [
    "fig = plt.figure(figsize = (10,6))\n",
    "sns.barplot(x = 'quality', y = 'total sulfur dioxide', data = wine)"
   ]
  },
  {
   "cell_type": "code",
   "execution_count": 13,
   "metadata": {
    "ExecuteTime": {
     "end_time": "2020-08-06T07:08:34.540329Z",
     "start_time": "2020-08-06T07:08:34.029390Z"
    },
    "_cell_guid": "bf0b1aa4-8a6c-4f95-80c3-7554b38a9c96",
    "_uuid": "ae9a7496f5c238ec9bb95729b17960c6e48efe35"
   },
   "outputs": [
    {
     "data": {
      "text/plain": [
       "<AxesSubplot:xlabel='quality', ylabel='sulphates'>"
      ]
     },
     "execution_count": 13,
     "metadata": {},
     "output_type": "execute_result"
    },
    {
     "data": {
      "image/png": "[encoded data removed]",
      "text/plain": [
       "<Figure size 720x432 with 1 Axes>"
      ]
     },
     "metadata": {
      "needs_background": "light"
     },
     "output_type": "display_data"
    }
   ],
   "source": [
    "#Sulphates level goes higher with the quality of wine\n",
    "fig = plt.figure(figsize = (10,6))\n",
    "sns.barplot(x = 'quality', y = 'sulphates', data = wine)"
   ]
  },
  {
   "cell_type": "code",
   "execution_count": 14,
   "metadata": {
    "ExecuteTime": {
     "end_time": "2020-08-06T07:08:35.000450Z",
     "start_time": "2020-08-06T07:08:34.549749Z"
    },
    "_cell_guid": "04f51b1d-6315-44d3-986c-ed82fc996ad3",
    "_uuid": "81efa0b7799cd731aff98cffeaa28c361a7375a5"
   },
   "outputs": [
    {
     "data": {
      "text/plain": [
       "<AxesSubplot:xlabel='quality', ylabel='alcohol'>"
      ]
     },
     "execution_count": 14,
     "metadata": {},
     "output_type": "execute_result"
    },
    {
     "data": {
      "image/png": "[encoded data removed]",
      "text/plain": [
       "<Figure size 720x432 with 1 Axes>"
      ]
     },
     "metadata": {
      "needs_background": "light"
     },
     "output_type": "display_data"
    }
   ],
   "source": [
    "#Alcohol level also goes higher as te quality of wine increases\n",
    "fig = plt.figure(figsize = (10,6))\n",
    "sns.barplot(x = 'quality', y = 'alcohol', data = wine)"
   ]
  },
  {
   "cell_type": "markdown",
   "metadata": {},
   "source": [
    "## Preprocessing Data for performing Machine learning algorithms"
   ]
  },
  {
   "cell_type": "code",
   "execution_count": 15,
   "metadata": {
    "pycharm": {
     "name": "#%%\n"
    },
    "tags": [
     "transform_data"
    ]
   },
   "outputs": [],
   "source": [
    "#Making binary classificaion for the response variable.\n",
    "#Dividing wine as good and bad by giving the limit for the quality\n",
    "bins = (2, 6.5, 8)\n",
    "group_names = ['bad', 'good']\n",
    "wine['quality'] = pd.cut(wine['quality'], bins = bins, labels = group_names)"
   ]
  },
  {
   "cell_type": "code",
   "execution_count": 16,
   "metadata": {
    "ExecuteTime": {
     "end_time": "2020-08-06T07:08:35.044008Z",
     "start_time": "2020-08-06T07:08:35.033531Z"
    },
    "_cell_guid": "21a15507-cc97-4c40-835b-51fd79f7cdd9",
    "_uuid": "87127b3c5e9493a9364b3c63401ddb11a51373a1",
    "tags": [
     "transform_data"
    ]
   },
   "outputs": [],
   "source": [
    "#Now lets assign a labels to our quality variable\n",
    "label_quality = LabelEncoder()"
   ]
  },
  {
   "cell_type": "code",
   "execution_count": 17,
   "metadata": {
    "ExecuteTime": {
     "end_time": "2020-08-06T07:08:35.067248Z",
     "start_time": "2020-08-06T07:08:35.050948Z"
    },
    "_cell_guid": "f4c3a886-4b1f-4533-a660-b7ffb66376c2",
    "_uuid": "a592e2b8ece55e8d5928241eb5b9188226a725bf",
    "tags": [
     "transform_data"
    ]
   },
   "outputs": [],
   "source": [
    "#Bad becomes 0 and good becomes 1 \n",
    "wine['quality'] = label_quality.fit_transform(wine['quality'])"
   ]
  },
  {
   "cell_type": "code",
   "execution_count": 18,
   "metadata": {
    "pycharm": {
     "name": "#%%\n"
    },
    "tags": [
     "transform_data_func"
    ]
   },
   "outputs": [],
   "source": [
    "#Example refactoring of Data Transformation\n",
    "from sklearn.preprocessing import LabelEncoder\n",
    "import pandas as pd\n",
    "\n",
    "def transform_data_func(wine: pd.DataFrame, params: dict):\n",
    "    # Making binary classificaion for the response variable.\n",
    "    # Dividing wine as good and bad by giving the limit for the quality\n",
    "    bins = (2, 6.5, 8)\n",
    "    group_names = ['bad', 'good']\n",
    "    wine[params[\"target\"]] = pd.cut(wine[params[\"target\"]], bins=bins, labels=group_names)\n",
    "    # Now lets assign a labels to our quality variable\n",
    "    label_quality = LabelEncoder()\n",
    "    # Bad becomes 0 and good becomes 1\n",
    "    wine[params[\"target\"]] = label_quality.fit_transform(wine[params[\"target\"]])\n",
    "    return wine"
   ]
  },
  {
   "cell_type": "code",
   "execution_count": 19,
   "metadata": {
    "ExecuteTime": {
     "end_time": "2020-08-06T07:08:35.092678Z",
     "start_time": "2020-08-06T07:08:35.073198Z"
    },
    "_cell_guid": "faa36f65-7e80-44d7-a4f8-10e482cec684",
    "_uuid": "65a97517331f835cade698b594a7376ea7778eeb"
   },
   "outputs": [
    {
     "data": {
      "text/plain": [
       "0    1382\n",
       "1     217\n",
       "Name: quality, dtype: int64"
      ]
     },
     "execution_count": 19,
     "metadata": {},
     "output_type": "execute_result"
    }
   ],
   "source": [
    "wine['quality'].value_counts()"
   ]
  },
  {
   "cell_type": "code",
   "execution_count": 20,
   "metadata": {
    "ExecuteTime": {
     "end_time": "2020-08-06T07:08:35.278565Z",
     "start_time": "2020-08-06T07:08:35.097055Z"
    },
    "_cell_guid": "2fe7339e-837e-48c0-b988-a36c89632844",
    "_uuid": "d2a4c7e14dc6b8faa31efd1fcbe4f61b80a7d3e1"
   },
   "outputs": [
    {
     "name": "stderr",
     "output_type": "stream",
     "text": [
      "/home/lukas/anaconda3/lib/python3.8/site-packages/seaborn/_decorators.py:36: FutureWarning: Pass the following variable as a keyword arg: x. From version 0.12, the only valid positional argument will be `data`, and passing other arguments without an explicit keyword will result in an error or misinterpretation.\n",
      "  warnings.warn(\n"
     ]
    },
    {
     "data": {
      "text/plain": [
       "<AxesSubplot:xlabel='quality', ylabel='count'>"
      ]
     },
     "execution_count": 20,
     "metadata": {},
     "output_type": "execute_result"
    },
    {
     "data": {
      "image/png": "[encoded data removed]",
      "text/plain": [
       "<Figure size 432x288 with 1 Axes>"
      ]
     },
     "metadata": {
      "needs_background": "light"
     },
     "output_type": "display_data"
    }
   ],
   "source": [
    "sns.countplot(wine['quality'])"
   ]
  },
  {
   "cell_type": "code",
   "execution_count": 21,
   "metadata": {
    "ExecuteTime": {
     "end_time": "2020-08-06T07:08:35.295763Z",
     "start_time": "2020-08-06T07:08:35.284795Z"
    },
    "_cell_guid": "ba89712a-ad66-4a92-9214-4e35c3802d59",
    "_uuid": "b893deb26bb309c914de12aadf9ad8437deb8358"
   },
   "outputs": [],
   "source": [
    "#Now seperate the dataset as response variable and feature variabes\n",
    "X = wine.drop('quality', axis = 1)\n",
    "y = wine['quality']"
   ]
  },
  {
   "cell_type": "code",
   "execution_count": 22,
   "metadata": {
    "ExecuteTime": {
     "end_time": "2020-08-06T07:08:35.322684Z",
     "start_time": "2020-08-06T07:08:35.307803Z"
    },
    "_cell_guid": "d7703d9a-3397-4c42-9b38-6f341cac1cde",
    "_uuid": "bdfc0f6ba146f947f265fd493e8327366fdb5c9a"
   },
   "outputs": [],
   "source": [
    "#Train and Test splitting of data \n",
    "X_train, X_test, y_train, y_test = train_test_split(X, y, test_size = 0.2, random_state = 42)"
   ]
  },
  {
   "cell_type": "code",
   "execution_count": 23,
   "metadata": {
    "ExecuteTime": {
     "end_time": "2020-08-06T07:08:35.344677Z",
     "start_time": "2020-08-06T07:08:35.326371Z"
    },
    "_cell_guid": "cef31289-9cec-4ab1-afea-2ff34c36fec1",
    "_uuid": "ca68209bcd596b3cfcaf42837e4a6e49b6c12974"
   },
   "outputs": [],
   "source": [
    "#Applying Standard scaling to get optimized result\n",
    "sc = StandardScaler()"
   ]
  },
  {
   "cell_type": "code",
   "execution_count": 24,
   "metadata": {
    "ExecuteTime": {
     "end_time": "2020-08-06T07:08:35.413279Z",
     "start_time": "2020-08-06T07:08:35.369863Z"
    },
    "_cell_guid": "705b8e8a-a6d3-4e93-8b53-7c677b5b88c4",
    "_uuid": "7878194b0c4935904c68a88a91e18f9bbbabbda7"
   },
   "outputs": [],
   "source": [
    "X_train = sc.fit_transform(X_train)\n",
    "X_test = sc.transform(X_test)"
   ]
  },
  {
   "cell_type": "markdown",
   "metadata": {
    "_cell_guid": "645e952e-09b5-48df-9d08-aa6454ef333a",
    "_uuid": "3fd28a9b12fd0f5a00bc0add378ca1f9632bc319"
   },
   "source": [
    "## Our training and testing data is ready now to perform machine learning algorithm"
   ]
  },
  {
   "cell_type": "markdown",
   "metadata": {
    "_cell_guid": "0a12868b-8780-43b9-ae70-4c849407aac6",
    "_uuid": "093572f70cda59063611c1c888974e6a863ec7ef"
   },
   "source": [
    "### Random Forest Classifier"
   ]
  },
  {
   "cell_type": "code",
   "execution_count": 25,
   "metadata": {
    "ExecuteTime": {
     "end_time": "2020-08-06T07:08:36.386238Z",
     "start_time": "2020-08-06T07:08:35.427816Z"
    },
    "_cell_guid": "f7d2ca14-40fa-4b7c-b902-d47f09214c75",
    "_uuid": "4c2c2a071bde3b44adf031a6807f51b47f8b5eaa"
   },
   "outputs": [],
   "source": [
    "rfc = RandomForestClassifier(n_estimators=200)\n",
    "rfc.fit(X_train, y_train)\n",
    "pred_rfc = rfc.predict(X_test)"
   ]
  },
  {
   "cell_type": "code",
   "execution_count": 26,
   "metadata": {
    "ExecuteTime": {
     "end_time": "2020-08-06T07:08:36.404923Z",
     "start_time": "2020-08-06T07:08:36.388897Z"
    },
    "_cell_guid": "1cc15e56-0589-4fa3-a4f1-6f5e7b5547b2",
    "_uuid": "61e8a79a7db4fef289b8d4e3b3dd8e1c01756697"
   },
   "outputs": [
    {
     "name": "stdout",
     "output_type": "stream",
     "text": [
      "              precision    recall  f1-score   support\n",
      "\n",
      "           0       0.92      0.98      0.95       273\n",
      "           1       0.81      0.53      0.64        47\n",
      "\n",
      "    accuracy                           0.91       320\n",
      "   macro avg       0.87      0.75      0.80       320\n",
      "weighted avg       0.91      0.91      0.90       320\n",
      "\n"
     ]
    }
   ],
   "source": [
    "#Let's see how our model performed\n",
    "print(classification_report(y_test, pred_rfc))"
   ]
  },
  {
   "cell_type": "markdown",
   "metadata": {
    "_cell_guid": "6fc282fd-9db3-4c69-bf91-f9daaaec615b",
    "_uuid": "eaa7b2cbb80adbb06133b9cd89a8ebae014dc3e8"
   },
   "source": [
    "#### Random forest gives the accuracy of 87%"
   ]
  },
  {
   "cell_type": "code",
   "execution_count": 27,
   "metadata": {
    "ExecuteTime": {
     "end_time": "2020-08-06T07:08:36.443732Z",
     "start_time": "2020-08-06T07:08:36.420036Z"
    },
    "_cell_guid": "84334dbd-d36c-4650-87ab-d3e8f73be63c",
    "_uuid": "0fd8c7cd7741be25fd0d5f56d5711e8aaf44ac0f"
   },
   "outputs": [
    {
     "name": "stdout",
     "output_type": "stream",
     "text": [
      "[[267   6]\n",
      " [ 22  25]]\n"
     ]
    }
   ],
   "source": [
    "#Confusion matrix for the random forest classification\n",
    "print(confusion_matrix(y_test, pred_rfc))"
   ]
  },
  {
   "cell_type": "markdown",
   "metadata": {
    "_cell_guid": "cb7432d3-16a5-4764-b792-def2666dffbe",
    "_uuid": "6bb4d5afc35743acfd4630d12038c29f2459ce39"
   },
   "source": [
    "\n",
    "\n",
    "## Stochastic Gradient Decent Classifier"
   ]
  },
  {
   "cell_type": "code",
   "execution_count": 28,
   "metadata": {
    "ExecuteTime": {
     "end_time": "2020-08-06T07:08:36.469908Z",
     "start_time": "2020-08-06T07:08:36.449021Z"
    },
    "_cell_guid": "d6835aea-7d7c-4602-b3f3-11e26a37f816",
    "_uuid": "2e1bc3b870d29573b09f1c590ee18011e29af7c3"
   },
   "outputs": [],
   "source": [
    "sgd = SGDClassifier(penalty=None)\n",
    "sgd.fit(X_train, y_train)\n",
    "pred_sgd = sgd.predict(X_test)"
   ]
  },
  {
   "cell_type": "code",
   "execution_count": 30,
   "metadata": {
    "ExecuteTime": {
     "end_time": "2020-08-06T07:08:36.501586Z",
     "start_time": "2020-08-06T07:08:36.478693Z"
    },
    "_cell_guid": "ff591dec-adf0-422a-85f6-97c1a27b62f6",
    "_uuid": "c5bdce42ff74ac8c4b6d3eb5b40107b301eec037"
   },
   "outputs": [
    {
     "name": "stdout",
     "output_type": "stream",
     "text": [
      "              precision    recall  f1-score   support\n",
      "\n",
      "           0       0.85      1.00      0.92       273\n",
      "           1       0.00      0.00      0.00        47\n",
      "\n",
      "    accuracy                           0.85       320\n",
      "   macro avg       0.43      0.50      0.46       320\n",
      "weighted avg       0.73      0.85      0.78       320\n",
      "\n"
     ]
    }
   ],
   "source": [
    "print(classification_report(y_test, pred_sgd))"
   ]
  },
  {
   "cell_type": "markdown",
   "metadata": {
    "_cell_guid": "674724bc-e600-4f3e-999a-9b99c4d564be",
    "_uuid": "26ef4101c3c8d17b7524378bb7b59ea2d2a4e762"
   },
   "source": [
    "#### 84% accuracy using stochastic gradient descent classifier"
   ]
  },
  {
   "cell_type": "code",
   "execution_count": 31,
   "metadata": {
    "ExecuteTime": {
     "end_time": "2020-08-06T07:08:36.518742Z",
     "start_time": "2020-08-06T07:08:36.508192Z"
    },
    "_cell_guid": "2f2ff080-986a-4a64-8f74-8a3afd4e494f",
    "_uuid": "593afdb03d06d44529cba0d8348aced10f1cd276"
   },
   "outputs": [
    {
     "name": "stdout",
     "output_type": "stream",
     "text": [
      "[[272   1]\n",
      " [ 47   0]]\n"
     ]
    }
   ],
   "source": [
    "print(confusion_matrix(y_test, pred_sgd))"
   ]
  },
  {
   "cell_type": "markdown",
   "metadata": {
    "_cell_guid": "eda98e5a-552d-4318-8ae7-1fc45c360be4",
    "_uuid": "9ec5e14c6c24713d6b6e0aaa76ddc5d45886c626"
   },
   "source": [
    "## Support Vector Classifier"
   ]
  },
  {
   "cell_type": "code",
   "execution_count": 43,
   "metadata": {
    "ExecuteTime": {
     "end_time": "2020-08-06T07:08:36.578171Z",
     "start_time": "2020-08-06T07:08:36.528409Z"
    },
    "_cell_guid": "c09c2885-0ae7-424b-8bfb-8d60eeab8910",
    "_uuid": "432c960068fac4d27d9be14a39ac0fe92933f532"
   },
   "outputs": [],
   "source": [
    "svc = SVC()\n",
    "svc.fit(X_train, y_train)\n",
    "pred_svc = svc.predict(X_test)"
   ]
  },
  {
   "cell_type": "code",
   "execution_count": 44,
   "metadata": {
    "ExecuteTime": {
     "end_time": "2020-08-06T07:08:36.616197Z",
     "start_time": "2020-08-06T07:08:36.584827Z"
    },
    "_cell_guid": "a9bd5ed8-fed7-4d12-8f84-ee02b345f7f3",
    "_uuid": "bc3c13a5596baf43c4c40dbddea247e3ee470d31"
   },
   "outputs": [
    {
     "name": "stdout",
     "output_type": "stream",
     "text": [
      "              precision    recall  f1-score   support\n",
      "\n",
      "           0       0.88      0.98      0.93       273\n",
      "           1       0.71      0.26      0.37        47\n",
      "\n",
      "    accuracy                           0.88       320\n",
      "   macro avg       0.80      0.62      0.65       320\n",
      "weighted avg       0.86      0.88      0.85       320\n",
      "\n"
     ]
    }
   ],
   "source": [
    "print(classification_report(y_test, pred_svc))"
   ]
  },
  {
   "cell_type": "markdown",
   "metadata": {
    "_cell_guid": "253d6200-8035-400c-a022-00d2bbd7f045",
    "_uuid": "3d4ac7ee94b2a081d5cb8caa1cfd99e41b8940fb"
   },
   "source": [
    "#### Support vector classifier gets 86%"
   ]
  },
  {
   "cell_type": "markdown",
   "metadata": {
    "_cell_guid": "ea15f1a9-eec6-4d08-a68d-8e3fce6f6b8a",
    "_uuid": "b11f94fdee6a4bfed980793d94ad5c17e33b7d39"
   },
   "source": [
    "## Let's try to increase our accuracy of models\n",
    "## Grid Search CV"
   ]
  },
  {
   "cell_type": "code",
   "execution_count": 45,
   "metadata": {
    "ExecuteTime": {
     "end_time": "2020-08-06T07:08:36.656708Z",
     "start_time": "2020-08-06T07:08:36.629274Z"
    },
    "_cell_guid": "31bbdf11-00b0-4120-81f6-b7b5ac537554",
    "_uuid": "0d8fb2a1ae6909c8e44d4b51af8492c194016e4c"
   },
   "outputs": [],
   "source": [
    "#Finding best parameters for our SVC model\n",
    "param = {\n",
    "    'C': [0.1,0.8,0.9,1,1.1,1.2,1.3,1.4],\n",
    "    'kernel':['linear', 'rbf'],\n",
    "    'gamma' :[0.1,0.8,0.9,1,1.1,1.2,1.3,1.4]\n",
    "}\n",
    "grid_svc = GridSearchCV(svc, param_grid=param, scoring='accuracy', cv=10)"
   ]
  },
  {
   "cell_type": "code",
   "execution_count": 46,
   "metadata": {
    "ExecuteTime": {
     "end_time": "2020-08-06T07:09:17.344070Z",
     "start_time": "2020-08-06T07:08:36.666699Z"
    },
    "_cell_guid": "32cbf4d6-254c-4c55-93e2-448244d89ad9",
    "_uuid": "a581f788a26862911480af8e9c2acb4385d6d79d",
    "tags": [
     "model"
    ]
   },
   "outputs": [
    {
     "data": {
      "text/plain": [
       "GridSearchCV(cv=10, estimator=SVC(),\n",
       "             param_grid={'C': [0.1, 0.8, 0.9, 1, 1.1, 1.2, 1.3, 1.4],\n",
       "                         'gamma': [0.1, 0.8, 0.9, 1, 1.1, 1.2, 1.3, 1.4],\n",
       "                         'kernel': ['linear', 'rbf']},\n",
       "             scoring='accuracy')"
      ]
     },
     "execution_count": 46,
     "metadata": {},
     "output_type": "execute_result"
    }
   ],
   "source": [
    "grid_svc.fit(X_train, y_train)"
   ]
  },
  {
   "cell_type": "code",
   "execution_count": 33,
   "metadata": {
    "ExecuteTime": {
     "end_time": "2020-08-06T07:09:17.356008Z",
     "start_time": "2020-08-06T07:09:17.347757Z"
    },
    "_cell_guid": "55a3e439-c2e3-426e-a1a5-cd653bf8bfa9",
    "_uuid": "0d70efd0eb41271afb4ac50291aa83c6791847a3"
   },
   "outputs": [
    {
     "data": {
      "text/plain": [
       "{'C': 1.2, 'gamma': 0.9, 'kernel': 'rbf'}"
      ]
     },
     "execution_count": 33,
     "metadata": {},
     "output_type": "execute_result"
    }
   ],
   "source": [
    "#Best parameters for our svc model\n",
    "grid_svc.best_params_"
   ]
  },
  {
   "cell_type": "code",
   "execution_count": 34,
   "metadata": {
    "ExecuteTime": {
     "end_time": "2020-08-06T07:09:17.450436Z",
     "start_time": "2020-08-06T07:09:17.359998Z"
    },
    "_cell_guid": "362ff8bd-7cf3-48af-a93a-499b52dab0d7",
    "_uuid": "dd4a0ac5ef6c17e9e2312a03df0d82ca088c40f2"
   },
   "outputs": [
    {
     "name": "stdout",
     "output_type": "stream",
     "text": [
      "              precision    recall  f1-score   support\n",
      "\n",
      "           0       0.90      0.99      0.94       273\n",
      "           1       0.85      0.36      0.51        47\n",
      "\n",
      "    accuracy                           0.90       320\n",
      "   macro avg       0.88      0.68      0.72       320\n",
      "weighted avg       0.89      0.90      0.88       320\n",
      "\n"
     ]
    }
   ],
   "source": [
    "#Let's run our SVC again with the best parameters.\n",
    "svc2 = SVC(C = 1.2, gamma =  0.9, kernel= 'rbf')\n",
    "svc2.fit(X_train, y_train)\n",
    "pred_svc2 = svc2.predict(X_test)\n",
    "print(classification_report(y_test, pred_svc2))"
   ]
  },
  {
   "cell_type": "markdown",
   "metadata": {
    "_cell_guid": "d14b50b9-006a-490f-a626-4a2a41b843d6",
    "_uuid": "eca47cbe6600911992c4ebee60c68e3fe37a3c91"
   },
   "source": [
    "### SVC improves from 86% to 90% using Grid Search CV"
   ]
  },
  {
   "cell_type": "markdown",
   "metadata": {
    "_cell_guid": "9cfb4b02-75c7-41ac-9ef7-0dcb2b00124e",
    "_uuid": "4b47f0260582ad526d3b8057d7f2ce96157720f1"
   },
   "source": []
  },
  {
   "cell_type": "markdown",
   "metadata": {
    "_cell_guid": "d6cd1c1f-9531-4c6a-87c1-262dd7fb6caf",
    "_uuid": "9f705df2b81e776eedc164c5d933ff4dd4c61d31"
   },
   "source": [
    "## Cross Validation Score for random forest and SGD"
   ]
  },
  {
   "cell_type": "code",
   "execution_count": 35,
   "metadata": {
    "ExecuteTime": {
     "end_time": "2020-08-06T07:09:23.241605Z",
     "start_time": "2020-08-06T07:09:17.454999Z"
    },
    "_cell_guid": "a5507be9-a3eb-4bba-b8d5-928d015faadf",
    "_uuid": "24a7f7dc1bf59eaae6e5ea5a6f61130664fcd260"
   },
   "outputs": [
    {
     "data": {
      "text/plain": [
       "0.9155757874015749"
      ]
     },
     "execution_count": 35,
     "metadata": {},
     "output_type": "execute_result"
    }
   ],
   "source": [
    "#Now lets try to do some evaluation for random forest model using cross validation.\n",
    "rfc_eval = cross_val_score(estimator = rfc, X = X_train, y = y_train, cv = 10)\n",
    "rfc_eval.mean()"
   ]
  },
  {
   "cell_type": "markdown",
   "metadata": {
    "_cell_guid": "4a6ab3c5-4b28-442e-be48-9e3eb14a6e79",
    "_uuid": "186ca0ca24faac487ca40563c9490f94f51a433a"
   },
   "source": [
    "### Random forest accuracy increases from 87% to 91 % using cross validation score"
   ]
  },
  {
   "cell_type": "markdown",
   "metadata": {
    "_cell_guid": "83d17bc9-b35a-4561-9368-bb8cd59558d4",
    "_uuid": "fca769d889ee6043785cad11fe54c455e1a4d0c2"
   },
   "source": [
    "### Thank for going through this notebook"
   ]
  },
  {
   "cell_type": "markdown",
   "metadata": {
    "_cell_guid": "01762203-2a90-419c-944f-b0c9f6230b81",
    "_uuid": "16946f697fd0ac8ab47f3b9eb5c433dbbcce4a16"
   },
   "source": [
    "## If you find this notebook useful then please upvote. So the beginners can find easily"
   ]
  },
  {
   "cell_type": "code",
   "execution_count": null,
   "metadata": {},
   "outputs": [],
   "source": []
  }
 ],
 "metadata": {
  "celltoolbar": "Tags",
  "kernelspec": {
   "display_name": "Python 3",
   "language": "python",
   "name": "python3"
  },
  "language_info": {
   "codemirror_mode": {
    "name": "ipython",
    "version": 3
   },
   "file_extension": ".py",
   "mimetype": "text/x-python",
   "name": "python",
   "nbconvert_exporter": "python",
   "pygments_lexer": "ipython3",
   "version": "3.8.5"
  }
 },
 "nbformat": 4,
 "nbformat_minor": 1
}